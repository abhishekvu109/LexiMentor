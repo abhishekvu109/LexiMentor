{
 "cells": [
  {
   "cell_type": "code",
   "execution_count": 1,
   "id": "d1ff108f-7821-4408-bf53-7dc350f04bee",
   "metadata": {},
   "outputs": [],
   "source": [
    "import json"
   ]
  },
  {
   "cell_type": "code",
   "execution_count": 2,
   "id": "e9bc9312-11d3-4653-a556-edbb892a4045",
   "metadata": {},
   "outputs": [],
   "source": [
    "def is_valid_error_object(obj):\n",
    "    required_keys = {\n",
    "        \"id\", \"start\", \"end\", \"type\", \"subType\",\n",
    "        \"incorrectText\", \"correctedText\", \"explanation\"\n",
    "    }\n",
    "    return isinstance(obj, dict) and required_keys.issubset(obj.keys())"
   ]
  },
  {
   "cell_type": "code",
   "execution_count": 3,
   "id": "498f24f6-70dc-4b7a-bfdc-7ec910472231",
   "metadata": {},
   "outputs": [],
   "source": [
    "def clean_and_format_json(raw_json_str):\n",
    "    try:\n",
    "        # Try to parse directly\n",
    "        data = json.loads(raw_json_str)\n",
    "    except json.JSONDecodeError:\n",
    "        # Attempt to repair common issues\n",
    "        import ast\n",
    "        try:\n",
    "            data = ast.literal_eval(raw_json_str)\n",
    "        except Exception as e:\n",
    "            print(\"Failed to repair JSON:\", e)\n",
    "            return None\n",
    "\n",
    "    if \"errorList\" in data and isinstance(data[\"errorList\"], list):\n",
    "        cleaned_list = [err for err in data[\"errorList\"] if is_valid_error_object(err)]\n",
    "        data[\"errorList\"] = cleaned_list\n",
    "\n",
    "    formatted_json = json.dumps(data, indent=2, ensure_ascii=False)\n",
    "    return formatted_json"
   ]
  },
  {
   "cell_type": "code",
   "execution_count": 4,
   "id": "260f80c2-72a9-4994-bdfb-4a485b933bd4",
   "metadata": {},
   "outputs": [
    {
     "name": "stdout",
     "output_type": "stream",
     "text": [
      "{\n",
      "  \"errorList\": [\n",
      "    {\n",
      "      \"id\": \"err-1\",\n",
      "      \"start\": 0,\n",
      "      \"end\": 23,\n",
      "      \"type\": \"Grammar\",\n",
      "      \"subType\": \"Subject-Verb Agreement\",\n",
      "      \"incorrectText\": \"In today's modern society, social media has become one of the most important parts of people's lives.\",\n",
      "      \"correctedText\": \"In today's modern society, social media has become an essential part of people's lives.\",\n",
      "      \"explanation\": \"'Parts' should be 'part' as it refers to a singular concept.\"\n",
      "    },\n",
      "    {\n",
      "      \"id\": \"err-2\",\n",
      "      \"start\": 107,\n",
      "      \"end\": 135,\n",
      "      \"type\": \"Grammar\",\n",
      "      \"subType\": \"Tense\",\n",
      "      \"incorrectText\": \"political discourse is no longer limited to leaders or experts—everyone can now participate.\",\n",
      "      \"correctedText\": \"political discourse has expanded beyond leaders and experts, allowing everyone to participate.\",\n",
      "      \"explanation\": \"'Is no longer limited' should be 'has expanded beyond' for consistency with the present perfect tense.\"\n",
      "    }\n",
      "  ]\n",
      "}\n"
     ]
    }
   ],
   "source": [
    "# Example usage\n",
    "raw_json = '''\n",
    "{\n",
    "  \"errorList\": [\n",
    "    {\n",
    "      \"id\": \"err-1\",\n",
    "      \"start\": 0,\n",
    "      \"end\": 23,\n",
    "      \"type\": \"Grammar\",\n",
    "      \"subType\": \"Subject-Verb Agreement\",\n",
    "      \"incorrectText\": \"In today's modern society, social media has become one of the most important parts of people's lives.\",\n",
    "      \"correctedText\": \"In today's modern society, social media has become an essential part of people's lives.\",\n",
    "      \"explanation\": \"'Parts' should be 'part' as it refers to a singular concept.\"\n",
    "    },\n",
    "    {\n",
    "      \"id\": \"err-2\",\n",
    "      \"start\": 107,\n",
    "      \"end\": 135,\n",
    "      \"type\": \"Grammar\",\n",
    "      \"subType\": \"Tense\",\n",
    "      \"incorrectText\": \"political discourse is no longer limited to leaders or experts—everyone can now participate.\",\n",
    "      \"correctedText\": \"political discourse has expanded beyond leaders and experts, allowing everyone to participate.\",\n",
    "      \"explanation\": \"'Is no longer limited' should be 'has expanded beyond' for consistency with the present perfect tense.\"\n",
    "    }\n",
    "  ]\n",
    "}\n",
    "'''\n",
    "\n",
    "cleaned_json = clean_and_format_json(raw_json)\n",
    "print(cleaned_json)"
   ]
  },
  {
   "cell_type": "code",
   "execution_count": 28,
   "id": "a76177c5-5913-4903-92ef-6546664e2bfb",
   "metadata": {},
   "outputs": [
    {
     "name": "stdout",
     "output_type": "stream",
     "text": [
      "Error during JSON cleaning/parsing: Expecting value: line 12 column 8 (char 266)\n"
     ]
    }
   ],
   "source": [
    "import json\n",
    "import re\n",
    "\n",
    "def is_valid_error_object(obj):\n",
    "    required_keys = {\n",
    "        \"id\", \"start\", \"end\", \"type\", \"subType\",\n",
    "        \"incorrectText\", \"correctedText\", \"explanation\"\n",
    "    }\n",
    "    return isinstance(obj, dict) and required_keys.issubset(obj)\n",
    "\n",
    "def clean_and_format_json(raw_json_string):\n",
    "    try:\n",
    "        # Step 1: Unescape newline and quotes\n",
    "        cleaned_str = raw_json_string.encode().decode('unicode_escape')\n",
    "\n",
    "        # Step 2: Remove leading/trailing whitespace and redundant newline at end\n",
    "        cleaned_str = cleaned_str.strip()\n",
    "\n",
    "        # Step 3: Try to parse the JSON\n",
    "        data = json.loads(cleaned_str)\n",
    "\n",
    "        # Step 4: Clean up invalid entries\n",
    "        if \"errorList\" in data and isinstance(data[\"errorList\"], list):\n",
    "            data[\"errorList\"] = [\n",
    "                obj for obj in data[\"errorList\"] if is_valid_error_object(obj)\n",
    "            ]\n",
    "\n",
    "        # Step 5: Return pretty JSON\n",
    "        return json.dumps(data, indent=2, ensure_ascii=False)\n",
    "\n",
    "    except Exception as e:\n",
    "        print(\"Error during JSON cleaning/parsing:\", e)\n",
    "        return None\n",
    "\n",
    "# Example usage:\n",
    "raw_json = '''{\\n  \\\"errorList\\\": [\\n    {\\n      \\\"id\\\": \\\"err-1\\\",\\n      \\\"start\\\": 13,\\n      \\\"end\\\": 15,\\n      \\\"type\\\": \\\"Grammar\\\",\\n      \\\"subType\\\": \\\"Article\\\",\\n      \\\"incorrectText\\\": \\\"In\\\",\\n      \\\"correctedText\\\": \\\"It\\\",\\n      \\\"explanation\\\": \\\"The sentence requires a subject, not 'In'.\\\"\\n    },\\n    {\\n      \\\"id\\\": \\\"err-2\\\",\\n      \\\"start\\\": 25,\\n      \\\"end\\\": 28,\\n      \\\"type\\\": \\\"Vocabulary\\\",\\n      \\\"subType\\\": \\\"Word Choice\\\",\\n      \\\"incorrectText\\\": \\\"one of the most important parts\\\",\\n      \\\"correctedText\\\": \\\"a key component\\\",\\n      \\\"explanation\\\": \\\"More formal and precise language is needed for a discussion of political discourse.\\\"\\n    },\\n    {\\n      \\\"id\\\": \\\"err-3\\\",\\n      \\\"start\\\": 35,\\n      \\\"end\\\": 39,\\n      \\\"type\\\": \\\"Grammar\\\",\\n      \\\"subType\\\": \\\"Verb Form\\\",\\n      \\\"incorrectText\\\": \\\"has become\\\",\\n      \\\"correctedText\\\": \\\"has evolved\\\",\\n      \\\"explanation\\\": \\\"‘Evolved’ is a more appropriate term for describing the change in social media’s role.\\\"\\n    },\\n    {\\n      \\\"id\\\": \\\"err-4\\\",\\n      \\\"start\\\": 43,\\n      \\\"end\\\": 48,\\n      \\\"type\\\": \\\"Vocabulary\\\",\\n      \\\"subType\\\": \\\"Precision\\\",\\n      \\\"incorrectText\\\": \\\"accessibility\\\",\\n      \\\"correctedText\\\": \\\"availability\\\",\\n      \\\"explanation\\\": \\\"'Accessibility' is too vague; 'availability' is more precise in this context.\\\"\\n    },\\n    {\\n      \\\"id\\\": \\\"err-5\\\",\\n      \\\"start\\\": 53,\\n      \\\"end\\\": 59,\\n      \\\"type\\\": \\\"Grammar\\\",\\n      \\\"subType\\\": \\\"Verb Form\\\",\\n      \\\"incorrectText\\\": \\\"creates\\\",\\n      \\\"correctedText\\\": \\\"contributes to\\\",\\n      \\\"explanation\\\": \\\"‘Contributes to’ is a more nuanced and accurate description of the process.\\\"\\n    },\\n    {\\n      \\\"id\\\": \\\"err-6\\\",\\n      \\\"start\\\": 63,\\n      \\\"end\\\": 68,\\n      \\\"type\\\": \\\"Vocabulary\\\",\\n      \\\"subType\\\": \\\"Word Choice\\\",\\n      \\\"incorrectText\\\": \\\"echo chambers\\\",\\n      \\\"correctedText\\\": \\\"filter bubbles\\\",\\n      \\\"explanation\\\": \\\"'Echo chambers' is a common term, but 'filter bubbles' is more descriptive of the algorithmic process.\\\"\\n    },\\n    {\\n      \\\"id\\\": \\\"err-7\\\",\\n      \\\"start\\\": 74,\\n      \\\"end\\\": 79,\\n      \\\"type\\\": \\\"Grammar\\\",\\n      \\\"subType\\\": \\\"Verb Form\\\",\\n      \\\"incorrectText\\\": \\\"contributes to\\\",\\n      \\\"correctedText\\\": \\\"leads to\\\",\\n      \\\"explanation\\\": \\\"'Leads to' is a stronger and more direct way to express the cause-and-effect relationship.\\\"\\n    },\\n    {\\n      \\\"id\\\": \\\"err-8\\\",\\n      \\\"start\\\": 84,\\n      \\\"end\\\": 89,\\n      \\\"type\\\": \\\"Vocabulary\\\",\\n      \\\"subType\\\": \\\"Word Choice\\\",\\n      \\\"incorrectText\\\": \\\"misinformation\\\",\\n      \\\"correctedText\\\": \\\"false narratives\\\",\\n      \\\"explanation\\\": \\\"'Misinformation' is a broad term; 'false narratives' is more specific and descriptive.\\\"\\n    },\\n    {\\n      \\\"id\\\": \\\"err-9\\\",\\n      \\\"start\\\": 96,\\n      \\\"end\\\": 99,\\n      \\\"type\\\": \\\"Grammar\\\",\\n      \\\"subType\\\": \\\"Verb Form\\\",\\n      \\\"incorrectText\\\": \\\"share\\\",\\n      \\\"correctedText\\\": \\\"disseminate\\\",\\n      \\\"explanation\\\": \\\"'Disseminate' is a more formal and appropriate term for spreading information.\\\"\\n    },\\n    {\\n      \\\"id\\\": \\\"err-10\\\",\\n      \\\"start\\\": 104,\\n      \\\"end\\\": 109,\\n      \\\"type\\\": \\\"Vocabulary\\\",\\n      \\\"subType\\\": \\\"Word Choice\\\",\\n      \\\"incorrectText\\\": \\\"harassment\\\",\\n      \\\"correctedText\\\": \\\"abuse\\\",\\n      \\\"explanation\\\": \\\"'Harassment' is too broad; 'abuse' is more specific to the context of online interactions.\\\"\\n    },\\n    {\\n      \\\"id\\\": \\\"err-11\\\",\\n      \\\"start\\\": 116,\\n      \\\"end\\\": 119,\\n      \\\"type\\\": \\\"Vocabulary\\\",\\n      \\\"subType\\\": \\\"Word Choice\\\",\\n      \\\"incorrectText\\\": \\\"discourse\\\",\\n      \\\"correctedText\\\": \\\"debate\\\",\\n      \\\"explanation\\\": \\\"'Discourse' is too academic; 'debate' is more accessible and appropriate for this context.\\\"\\n    },\\n    {\\n      \\\"id\\\": \\\"err-12\\\",\\n      \\\"start\\\": 131,\\n      \\\"end\\\": 133,\\n      \\\"type\\\": \\\"Vocabulary\\\",\\n      \\\"subType\\\": \\\"Word Choice\\\",\\n      \\\"incorrectText\\\": \\\"over\\\",\\n      \\\"correctedText\\\": \\\"excessive\\\",\\n      \\\"explanation\\\": \\\"'Over' is too vague; 'excessive' is more descriptive.\\\"\\n    },\\n    {\\n      \\\"id\\\": \\\"err-13\\\",\\n      \\\"start\\\": 146,\\n      \\\"end\\\": 149,\\n      \\\"type\\\": \\\"Vocabulary\\\",\\n      \\\"subType\\\": \\\"Word Choice\\\",\\n      \\\"incorrectText\\\": \\\"discourse\\\",\\n      \\\"correctedText\\\": \\\"discussion\\\",\\n      \\\"explanation\\\": \\\"'Discourse' is too academic; 'discussion' is more accessible and appropriate for this context.\\\"\\n    },\\n    {\\n      \\\"id\\\": \\\"err-14\\\",\\n      \\\"start\\\": 163,\\n      \\\"end\\\": 167,\\n      \\\"type\\\": \\\"Vocabulary\\\",\\n      \\\"subType\\\": \\\"Word Choice\\\",\\n      \\\"incorrectText\\\": \\\"over\\\",\\n      \\\"correctedText\\\": \\\"excessive\\\",\\n      \\\"explanation\\\": \\\"'Over' is too vague; 'excessive' is more descriptive.\\\"\\n    },\\n    {\\n      \\\"id\\\": \\\"err-15\\\",\\n      \\\"start\\\": 173,\\n      \\\"end\\\": 177,\\n      \\\"type\\\": \\\"Vocabulary\\\",\\n      \\\"subType\\\": \\\"Word Choice\\\",\\n      \\\"incorrectText\\\": \\\"discourse\\\",\\n      \\\"correctedText\\\": \\\"discussion\\\",\\n      \\\"explanation\\\": \\\"'Discourse' is too academic; 'discussion' is more accessible and appropriate for this context.\\\"\\n    },\\n    {\\n      \\\"id\\\": \\\"err-16\\\",\\n      \\\"start\\\": 187,\\n      \\\"end\\\": 189,\\n      \\\"type\\\": \\\"Vocabulary\\\",\\n      \\\"subType\\\": \\\"Word Choice\\\",\\n      \\\"incorrectText\\\": \\\"over\\\",\\n      \\\"correctedText\\\": \\\"excessive\\\",\\n      \\\"explanation\\\": \\\"'Over' is too vague; 'excessive' is more descriptive.\\\"\\n    },\\n    {\\n      \\\"id\\\": \\\"err-17\\\",\\n      \\\"start\\\": 197,\\n      \\\"end\\\": 201,\\n      \\\"type\\\": \\\"Vocabulary\\\",\\n      \\\"subType\\\": \\\"Word Choice\\\",\\n      \\\"incorrectText\\\": \\\"discourse\\\",\\n      \\\"correctedText\\\": \\\"discussion\\\",\\n      \\\"explanation\\\": \\\"'Discourse' is too academic; 'discussion' is more accessible and appropriate for this context.\\\"\\n    },\\n    {\\n      \\\"id\\\": \\\"err-18\\\",\\n      \\\"start\\\": 208,\\n      \\\"end\\\": 212,\\n      \\\"type\\\": \\\"Vocabulary\\\",\\n      \\\"subType\\\": \\\"Word Choice\\\",\\n      \\\"incorrectText\\\": \\\"over\\\",\\n      \\\"correctedText\\\": \\\"excessive\\\",\\n      \\\"explanation\\\": \\\"'Over' is too vague; 'excessive' is more descriptive.\\\"\\n    },\\n    {\\n      \\\"id\\\": \\\"err-19\\\",\\n      \\\"start\\\": 218,\\n      \\\"end\\\": 221,\\n      \\\"type\\\": \\\"Vocabulary\\\",\\n      \\\"subType\\\": \\\"Word Choice\\\",\\n      \\\"incorrectText\\\": \\\"discourse\\\",\\n      \\\"correctedText\\\": \\\"discussion\\\",\\n      \\\"explanation\\\": \\\"'Discourse' is too academic; 'discussion' is more accessible and appropriate for this context.\\\"\\n    },\\n    {\\n      \\\"id\\\": \\\"err-20\\\",\\n      \\\"start\\\": 227,\\n      \\\"end\\\": 231,\\n      \\\"type\\\": \\\"Vocabulary\\\",\\n      \\\"subType\\\": \\\"Word Choice\\\",\\n      \\\"incorrectText\\\": \\\"over\\\",\\n      \\\"correctedText\\\": \\\"excessive\\\",\\n      \\\"explanation\\\": \\\"'Over' is too vague; 'excessive' is more descriptive.\\\"\\n    },\\n    {\\n      \\\"id\\\": \\\"err-21\\\",\\n      \\\"start\\\": 233,\\n      \\\"end\\\": 237,\\n      \\\"type\\\": \\\"Vocabulary\\\",\\n      \\\"subType\\\": \\\"Word Choice\\\",\\n      \\\"incorrectText\\\": \\\"discourse\\\",\\n      \\\"correctedText\\\": \\\"discussion\\\",\\n      \\\"explanation\\\": \\\"'Discourse' is too academic; 'discussion' is more accessible and appropriate for this context.\\\"\\n    },\\n    {\\n      \\\"id\\\": \\\"err-22\\\",\\n      \\\"start\\\": 243,\\n      \\\"end\\\": 247,\\n      \\\"type\\\": \\\"Vocabulary\\\",\\n      \\\"subType\\\": \\\"Word Choice\\\",\\n      \\\"incorrectText\\\": \\\"over\\\",\\n      \\\"correctedText\\\": \\\"excessive\\\",\\n      \\\"explanation\\\": \\\"'Over' is too vague; 'excessive' is more descriptive.\\\"\\n    },\\n    {\\n      \\\"id\\\": \\\"err-23\\\",\\n      \\\"start\\\": 253,\\n      \\\"end\\\": 257,\\n      \\\"type\\\": \\\"Vocabulary\\\",\\n      \\\"subType\\\": \\\"Word Choice\\\",\\n      \\\"incorrectText\\\": \\\"discourse\\\",\\n      \\\"correctedText\\\": \\\"discussion\\\",\\n      \\\"explanation\\\": \\\"'Discourse' is too academic; 'discussion' is more accessible and appropriate for this context.\\\"\\n    },\\n    {\\n      \\\"id\\\": \\\"err-24\\\",\\n      \\\"start\\\": 263,\\n      \\\"end\\\": 267,\\n      \\\"type\\\": \\\"Vocabulary\\\",\\n      \\\"subType\\\": \\\"Word Choice\\\",\\n      \\\"incorrectText\\\": \\\"discourse\\\",\\n      \\\"correctedText\\\": \\\"discussion\\\",\\n      \\\"explanation\\\": \\\"'Discourse' is too academic; 'discussion' is more accessible and appropriate for this context.\\\"\\n    },\\n    {\\n      \\\"id\\\": \\\"err-25\\\",\\n      \\\"start\\\": 273,\\n      \\\"end\\\": 277,\\n      \\\"type\\\": \\\"Vocabulary\\\",\\n      \\\"subType\\\": \\\"Word Choice\\\",\\n      \\\"incorrectText\\\": \\\"over\\\",\\n      \\\"correctedText\\\": \\\"excessive\\\",\\n      \\\"explanation\\\": \\\"'Over' is too vague; 'excessive' is more descriptive.\\\"\\n    },\\n    {\\n      \\\"id\\\": \\\"err-26\\\",\\n      \\\"start\\\": 283,\\n      \\\"end\\\": 287,\\n      \\\"type\\\": \\\"Vocabulary\\\",\\n      \\\"subType\\\": \\\"Word Choice\\\",\\n      \\\"incorrectText\\\": \\\"discourse\\\",\\n      \\\"correctedText\\\": \\\"discussion\\\",\\n      \\\"explanation\\\": \\\"'Discourse' is too academic; 'discussion' is more accessible and appropriate for this context.\\\"\\n    },\\n    {\\n      \\\"id\\\": \\\"err-27\\\",\\n      \\\"start\\\": 293,\\n      \\\"end\\\": 297,\\n      \\\"type\\\": \\\"Vocabulary\\\",\\n      \\\"subType\\\": \\\"Word Choice\\\",\\n      \\\"incorrectText\\\": \\\"over\\\",\\n      \\\"correctedText\\\": \\\"excessive\\\",\\n      \\\"explanation\\\": \\\"'Over' is too vague; 'excessive' is more descriptive.\\\"\\n    },\\n    {\\n      \\\"id\\\": \\\"err-28\\\",\\n      \\\"start\\\": 303,\\n      \\\"end\\\": 307,\\n      \\\"type\\\": \\\"Vocabulary\\\",\\n      \\\"subType\\\": \\\"Word Choice\\\",\\n      \\\"incorrectText\\\": \\\"discourse\\\",\\n      \\\"correctedText\\\": \\\"discussion\\\",\\n      \\\"explanation\\\": \\\"'Discourse' is too academic; 'discussion' is more accessible and appropriate for this context.\\\"\\n    },\\n    {\\n      \\\"id\\\": \\\"err-29\\\",\\n      \\\"start\\\": 313,\\n      \\\"end\\\": 317,\\n      \\\"type\\\": \\\"Vocabulary\\\",\\n      \\\"subType\\\": \\\"Word Choice\\\",\\n      \\\"incorrectText\\\": \\\"over\\\",\\n      \\\"correctedText\\\": \\\"excessive\\\",\\n      \\\"explanation\\\": \\\"'Over' is too vague; 'excessive' is more descriptive.\\\"\\n    },\\n    {\\n      \\\"id\\\": \\\"err-30\\\",\\n      \\\"start\\\": 317,\\n      \\\"end\\\": 321,\\n      \\\"type\\\": \\\"Vocabulary\\\",\\n      \\\"subType\\\": \\\"Word Choice\\\",\\n      \\\"incorrectText\\\": \\\"discourse\\\",\\n      \\\"correctedText\\\": \\\"discussion\\\",\\n      \\\"explanation\\\": \\\"'Discourse' is too academic; 'discussion' is more accessible and appropriate for this context.\\\"\\n    }\\n  ]\\n}\\n'''  # replace this with your full string\n",
    "\n",
    "result = clean_and_format_json(raw_json)\n",
    "if result:\n",
    "    print(result)\n",
    "\n"
   ]
  },
  {
   "cell_type": "code",
   "execution_count": 19,
   "id": "e19d7397-fec1-4fae-ad4c-f2e481e7f5f5",
   "metadata": {},
   "outputs": [],
   "source": [
    "raw_json = \"{\\n  \\\"errorList\\\": [\\n    {\\n      \\\"id\\\": \\\"err-1\\\",\\n      \\\"start\\\": 13,\\n      \\\"end\\\": 15,\\n      \\\"type\\\": \\\"Grammar\\\",\\n      \\\"subType\\\": \\\"Article\\\",\\n      \\\"incorrectText\\\": \\\"In\\\",\\n      \\\"correctedText\\\": \\\"It\\\",\\n      \\\"explanation\\\": \\\"The sentence requires a subject, not 'In'.\\\"\\n    },\\n    {\\n      \\\"id\\\": \\\"err-2\\\",\\n      \\\"start\\\": 25,\\n      \\\"end\\\": 28,\\n      \\\"type\\\": \\\"Vocabulary\\\",\\n      \\\"subType\\\": \\\"Word Choice\\\",\\n      \\\"incorrectText\\\": \\\"one of the most important parts\\\",\\n      \\\"correctedText\\\": \\\"a key component\\\",\\n      \\\"explanation\\\": \\\"More formal and precise language is needed for a discussion of political discourse.\\\"\\n    },\\n    {\\n      \\\"id\\\": \\\"err-3\\\",\\n      \\\"start\\\": 35,\\n      \\\"end\\\": 39,\\n      \\\"type\\\": \\\"Grammar\\\",\\n      \\\"subType\\\": \\\"Verb Form\\\",\\n      \\\"incorrectText\\\": \\\"has become\\\",\\n      \\\"correctedText\\\": \\\"has evolved\\\",\\n      \\\"explanation\\\": \\\"‘Evolved’ is a more appropriate term for describing the change in social media’s role.\\\"\\n    },\\n    {\\n      \\\"id\\\": \\\"err-4\\\",\\n      \\\"start\\\": 43,\\n      \\\"end\\\": 48,\\n      \\\"type\\\": \\\"Vocabulary\\\",\\n      \\\"subType\\\": \\\"Precision\\\",\\n      \\\"incorrectText\\\": \\\"accessibility\\\",\\n      \\\"correctedText\\\": \\\"availability\\\",\\n      \\\"explanation\\\": \\\"'Accessibility' is too vague; 'availability' is more precise in this context.\\\"\\n    },\\n    {\\n      \\\"id\\\": \\\"err-5\\\",\\n      \\\"start\\\": 53,\\n      \\\"end\\\": 59,\\n      \\\"type\\\": \\\"Grammar\\\",\\n      \\\"subType\\\": \\\"Verb Form\\\",\\n      \\\"incorrectText\\\": \\\"creates\\\",\\n      \\\"correctedText\\\": \\\"contributes to\\\",\\n      \\\"explanation\\\": \\\"‘Contributes to’ is a more nuanced and accurate description of the process.\\\"\\n    },\\n    {\\n      \\\"id\\\": \\\"err-6\\\",\\n      \\\"start\\\": 63,\\n      \\\"end\\\": 68,\\n      \\\"type\\\": \\\"Vocabulary\\\",\\n      \\\"subType\\\": \\\"Word Choice\\\",\\n      \\\"incorrectText\\\": \\\"echo chambers\\\",\\n      \\\"correctedText\\\": \\\"filter bubbles\\\",\\n      \\\"explanation\\\": \\\"'Echo chambers' is a common term, but 'filter bubbles' is more descriptive of the algorithmic process.\\\"\\n    },\\n    {\\n      \\\"id\\\": \\\"err-7\\\",\\n      \\\"start\\\": 74,\\n      \\\"end\\\": 79,\\n      \\\"type\\\": \\\"Grammar\\\",\\n      \\\"subType\\\": \\\"Verb Form\\\",\\n      \\\"incorrectText\\\": \\\"contributes to\\\",\\n      \\\"correctedText\\\": \\\"leads to\\\",\\n      \\\"explanation\\\": \\\"'Leads to' is a stronger and more direct way to express the cause-and-effect relationship.\\\"\\n    },\\n    {\\n      \\\"id\\\": \\\"err-8\\\",\\n      \\\"start\\\": 84,\\n      \\\"end\\\": 89,\\n      \\\"type\\\": \\\"Vocabulary\\\",\\n      \\\"subType\\\": \\\"Word Choice\\\",\\n      \\\"incorrectText\\\": \\\"misinformation\\\",\\n      \\\"correctedText\\\": \\\"false narratives\\\",\\n      \\\"explanation\\\": \\\"'Misinformation' is a broad term; 'false narratives' is more specific and descriptive.\\\"\\n    },\\n    {\\n      \\\"id\\\": \\\"err-9\\\",\\n      \\\"start\\\": 96,\\n      \\\"end\\\": 99,\\n      \\\"type\\\": \\\"Grammar\\\",\\n      \\\"subType\\\": \\\"Verb Form\\\",\\n      \\\"incorrectText\\\": \\\"share\\\",\\n      \\\"correctedText\\\": \\\"disseminate\\\",\\n      \\\"explanation\\\": \\\"'Disseminate' is a more formal and appropriate term for spreading information.\\\"\\n    },\\n    {\\n      \\\"id\\\": \\\"err-10\\\",\\n      \\\"start\\\": 104,\\n      \\\"end\\\": 109,\\n      \\\"type\\\": \\\"Vocabulary\\\",\\n      \\\"subType\\\": \\\"Word Choice\\\",\\n      \\\"incorrectText\\\": \\\"harassment\\\",\\n      \\\"correctedText\\\": \\\"abuse\\\",\\n      \\\"explanation\\\": \\\"'Harassment' is too broad; 'abuse' is more specific to the context of online interactions.\\\"\\n    },\\n    {\\n      \\\"id\\\": \\\"err-11\\\",\\n      \\\"start\\\": 116,\\n      \\\"end\\\": 119,\\n      \\\"type\\\": \\\"Vocabulary\\\",\\n      \\\"subType\\\": \\\"Word Choice\\\",\\n      \\\"incorrectText\\\": \\\"discourse\\\",\\n      \\\"correctedText\\\": \\\"debate\\\",\\n      \\\"explanation\\\": \\\"'Discourse' is too academic; 'debate' is more accessible and appropriate for this context.\\\"\\n    },\\n    {\\n      \\\"id\\\": \\\"err-12\\\",\\n      \\\"start\\\": 131,\\n      \\\"end\\\": 133,\\n      \\\"type\\\": \\\"Vocabulary\\\",\\n      \\\"subType\\\": \\\"Word Choice\\\",\\n      \\\"incorrectText\\\": \\\"over\\\",\\n      \\\"correctedText\\\": \\\"excessive\\\",\\n      \\\"explanation\\\": \\\"'Over' is too vague; 'excessive' is more descriptive.\\\"\\n    },\\n    {\\n      \\\"id\\\": \\\"err-13\\\",\\n      \\\"start\\\": 146,\\n      \\\"end\\\": 149,\\n      \\\"type\\\": \\\"Vocabulary\\\",\\n      \\\"subType\\\": \\\"Word Choice\\\",\\n      \\\"incorrectText\\\": \\\"discourse\\\",\\n      \\\"correctedText\\\": \\\"discussion\\\",\\n      \\\"explanation\\\": \\\"'Discourse' is too academic; 'discussion' is more accessible and appropriate for this context.\\\"\\n    },\\n    {\\n      \\\"id\\\": \\\"err-14\\\",\\n      \\\"start\\\": 163,\\n      \\\"end\\\": 167,\\n      \\\"type\\\": \\\"Vocabulary\\\",\\n      \\\"subType\\\": \\\"Word Choice\\\",\\n      \\\"incorrectText\\\": \\\"over\\\",\\n      \\\"correctedText\\\": \\\"excessive\\\",\\n      \\\"explanation\\\": \\\"'Over' is too vague; 'excessive' is more descriptive.\\\"\\n    },\\n    {\\n      \\\"id\\\": \\\"err-15\\\",\\n      \\\"start\\\": 173,\\n      \\\"end\\\": 177,\\n      \\\"type\\\": \\\"Vocabulary\\\",\\n      \\\"subType\\\": \\\"Word Choice\\\",\\n      \\\"incorrectText\\\": \\\"discourse\\\",\\n      \\\"correctedText\\\": \\\"discussion\\\",\\n      \\\"explanation\\\": \\\"'Discourse' is too academic; 'discussion' is more accessible and appropriate for this context.\\\"\\n    },\\n    {\\n      \\\"id\\\": \\\"err-16\\\",\\n      \\\"start\\\": 187,\\n      \\\"end\\\": 189,\\n      \\\"type\\\": \\\"Vocabulary\\\",\\n      \\\"subType\\\": \\\"Word Choice\\\",\\n      \\\"incorrectText\\\": \\\"over\\\",\\n      \\\"correctedText\\\": \\\"excessive\\\",\\n      \\\"explanation\\\": \\\"'Over' is too vague; 'excessive' is more descriptive.\\\"\\n    },\\n    {\\n      \\\"id\\\": \\\"err-17\\\",\\n      \\\"start\\\": 197,\\n      \\\"end\\\": 201,\\n      \\\"type\\\": \\\"Vocabulary\\\",\\n      \\\"subType\\\": \\\"Word Choice\\\",\\n      \\\"incorrectText\\\": \\\"discourse\\\",\\n      \\\"correctedText\\\": \\\"discussion\\\",\\n      \\\"explanation\\\": \\\"'Discourse' is too academic; 'discussion' is more accessible and appropriate for this context.\\\"\\n    },\\n    {\\n      \\\"id\\\": \\\"err-18\\\",\\n      \\\"start\\\": 208,\\n      \\\"end\\\": 212,\\n      \\\"type\\\": \\\"Vocabulary\\\",\\n      \\\"subType\\\": \\\"Word Choice\\\",\\n      \\\"incorrectText\\\": \\\"over\\\",\\n      \\\"correctedText\\\": \\\"excessive\\\",\\n      \\\"explanation\\\": \\\"'Over' is too vague; 'excessive' is more descriptive.\\\"\\n    },\\n    {\\n      \\\"id\\\": \\\"err-19\\\",\\n      \\\"start\\\": 218,\\n      \\\"end\\\": 221,\\n      \\\"type\\\": \\\"Vocabulary\\\",\\n      \\\"subType\\\": \\\"Word Choice\\\",\\n      \\\"incorrectText\\\": \\\"discourse\\\",\\n      \\\"correctedText\\\": \\\"discussion\\\",\\n      \\\"explanation\\\": \\\"'Discourse' is too academic; 'discussion' is more accessible and appropriate for this context.\\\"\\n    },\\n    {\\n      \\\"id\\\": \\\"err-20\\\",\\n      \\\"start\\\": 227,\\n      \\\"end\\\": 231,\\n      \\\"type\\\": \\\"Vocabulary\\\",\\n      \\\"subType\\\": \\\"Word Choice\\\",\\n      \\\"incorrectText\\\": \\\"over\\\",\\n      \\\"correctedText\\\": \\\"excessive\\\",\\n      \\\"explanation\\\": \\\"'Over' is too vague; 'excessive' is more descriptive.\\\"\\n    },\\n    {\\n      \\\"id\\\": \\\"err-21\\\",\\n      \\\"start\\\": 233,\\n      \\\"end\\\": 237,\\n      \\\"type\\\": \\\"Vocabulary\\\",\\n      \\\"subType\\\": \\\"Word Choice\\\",\\n      \\\"incorrectText\\\": \\\"discourse\\\",\\n      \\\"correctedText\\\": \\\"discussion\\\",\\n      \\\"explanation\\\": \\\"'Discourse' is too academic; 'discussion' is more accessible and appropriate for this context.\\\"\\n    },\\n    {\\n      \\\"id\\\": \\\"err-22\\\",\\n      \\\"start\\\": 243,\\n      \\\"end\\\": 247,\\n      \\\"type\\\": \\\"Vocabulary\\\",\\n      \\\"subType\\\": \\\"Word Choice\\\",\\n      \\\"incorrectText\\\": \\\"over\\\",\\n      \\\"correctedText\\\": \\\"excessive\\\",\\n      \\\"explanation\\\": \\\"'Over' is too vague; 'excessive' is more descriptive.\\\"\\n    },\\n    {\\n      \\\"id\\\": \\\"err-23\\\",\\n      \\\"start\\\": 253,\\n      \\\"end\\\": 257,\\n      \\\"type\\\": \\\"Vocabulary\\\",\\n      \\\"subType\\\": \\\"Word Choice\\\",\\n      \\\"incorrectText\\\": \\\"discourse\\\",\\n      \\\"correctedText\\\": \\\"discussion\\\",\\n      \\\"explanation\\\": \\\"'Discourse' is too academic; 'discussion' is more accessible and appropriate for this context.\\\"\\n    },\\n    {\\n      \\\"id\\\": \\\"err-24\\\",\\n      \\\"start\\\": 263,\\n      \\\"end\\\": 267,\\n      \\\"type\\\": \\\"Vocabulary\\\",\\n      \\\"subType\\\": \\\"Word Choice\\\",\\n      \\\"incorrectText\\\": \\\"discourse\\\",\\n      \\\"correctedText\\\": \\\"discussion\\\",\\n      \\\"explanation\\\": \\\"'Discourse' is too academic; 'discussion' is more accessible and appropriate for this context.\\\"\\n    },\\n    {\\n      \\\"id\\\": \\\"err-25\\\",\\n      \\\"start\\\": 273,\\n      \\\"end\\\": 277,\\n      \\\"type\\\": \\\"Vocabulary\\\",\\n      \\\"subType\\\": \\\"Word Choice\\\",\\n      \\\"incorrectText\\\": \\\"over\\\",\\n      \\\"correctedText\\\": \\\"excessive\\\",\\n      \\\"explanation\\\": \\\"'Over' is too vague; 'excessive' is more descriptive.\\\"\\n    },\\n    {\\n      \\\"id\\\": \\\"err-26\\\",\\n      \\\"start\\\": 283,\\n      \\\"end\\\": 287,\\n      \\\"type\\\": \\\"Vocabulary\\\",\\n      \\\"subType\\\": \\\"Word Choice\\\",\\n      \\\"incorrectText\\\": \\\"discourse\\\",\\n      \\\"correctedText\\\": \\\"discussion\\\",\\n      \\\"explanation\\\": \\\"'Discourse' is too academic; 'discussion' is more accessible and appropriate for this context.\\\"\\n    },\\n    {\\n      \\\"id\\\": \\\"err-27\\\",\\n      \\\"start\\\": 293,\\n      \\\"end\\\": 297,\\n      \\\"type\\\": \\\"Vocabulary\\\",\\n      \\\"subType\\\": \\\"Word Choice\\\",\\n      \\\"incorrectText\\\": \\\"over\\\",\\n      \\\"correctedText\\\": \\\"excessive\\\",\\n      \\\"explanation\\\": \\\"'Over' is too vague; 'excessive' is more descriptive.\\\"\\n    },\\n    {\\n      \\\"id\\\": \\\"err-28\\\",\\n      \\\"start\\\": 303,\\n      \\\"end\\\": 307,\\n      \\\"type\\\": \\\"Vocabulary\\\",\\n      \\\"subType\\\": \\\"Word Choice\\\",\\n      \\\"incorrectText\\\": \\\"discourse\\\",\\n      \\\"correctedText\\\": \\\"discussion\\\",\\n      \\\"explanation\\\": \\\"'Discourse' is too academic; 'discussion' is more accessible and appropriate for this context.\\\"\\n    },\\n    {\\n      \\\"id\\\": \\\"err-29\\\",\\n      \\\"start\\\": 313,\\n      \\\"end\\\": 317,\\n      \\\"type\\\": \\\"Vocabulary\\\",\\n      \\\"subType\\\": \\\"Word Choice\\\",\\n      \\\"incorrectText\\\": \\\"over\\\",\\n      \\\"correctedText\\\": \\\"excessive\\\",\\n      \\\"explanation\\\": \\\"'Over' is too vague; 'excessive' is more descriptive.\\\"\\n    },\\n    {\\n      \\\"id\\\": \\\"err-30\\\",\\n      \\\"start\\\": 317,\\n      \\\"end\\\": 321,\\n      \\\"type\\\": \\\"Vocabulary\\\",\\n      \\\"subType\\\": \\\"Word Choice\\\",\\n      \\\"incorrectText\\\": \\\"discourse\\\",\\n      \\\"correctedText\\\": \\\"discussion\\\",\\n      \\\"explanation\\\": \\\"'Discourse' is too academic; 'discussion' is more accessible and appropriate for this context.\\\"\\n    }\\n  ]\\n}\\n\"\n"
   ]
  },
  {
   "cell_type": "code",
   "execution_count": 20,
   "id": "808371c1-cb64-4193-86d0-63b1ab095c5d",
   "metadata": {},
   "outputs": [],
   "source": [
    "raw_json=str(raw_json).replace('\\n','');"
   ]
  },
  {
   "cell_type": "code",
   "execution_count": 26,
   "id": "cfff1692-61bb-4eb4-bdcd-bca70a73ba13",
   "metadata": {},
   "outputs": [],
   "source": [
    "result=clean_and_format_json(raw_json)"
   ]
  },
  {
   "cell_type": "code",
   "execution_count": 27,
   "id": "1c83a35c-1e92-4435-8a03-65144ce516a3",
   "metadata": {},
   "outputs": [
    {
     "data": {
      "text/plain": [
       "'{\\n  \"errorList\": [\\n    {\\n      \"id\": \"err-1\",\\n      \"start\": 13,\\n      \"end\": 15,\\n      \"type\": \"Grammar\",\\n      \"subType\": \"Article\",\\n      \"incorrectText\": \"In\",\\n      \"correctedText\": \"It\",\\n      \"explanation\": \"The sentence requires a subject, not \\'In\\'.\"\\n    },\\n    {\\n      \"id\": \"err-2\",\\n      \"start\": 25,\\n      \"end\": 28,\\n      \"type\": \"Vocabulary\",\\n      \"subType\": \"Word Choice\",\\n      \"incorrectText\": \"one of the most important parts\",\\n      \"correctedText\": \"a key component\",\\n      \"explanation\": \"More formal and precise language is needed for a discussion of political discourse.\"\\n    },\\n    {\\n      \"id\": \"err-3\",\\n      \"start\": 35,\\n      \"end\": 39,\\n      \"type\": \"Grammar\",\\n      \"subType\": \"Verb Form\",\\n      \"incorrectText\": \"has become\",\\n      \"correctedText\": \"has evolved\",\\n      \"explanation\": \"â\\x80\\x98Evolvedâ\\x80\\x99 is a more appropriate term for describing the change in social mediaâ\\x80\\x99s role.\"\\n    },\\n    {\\n      \"id\": \"err-4\",\\n      \"start\": 43,\\n      \"end\": 48,\\n      \"type\": \"Vocabulary\",\\n      \"subType\": \"Precision\",\\n      \"incorrectText\": \"accessibility\",\\n      \"correctedText\": \"availability\",\\n      \"explanation\": \"\\'Accessibility\\' is too vague; \\'availability\\' is more precise in this context.\"\\n    },\\n    {\\n      \"id\": \"err-5\",\\n      \"start\": 53,\\n      \"end\": 59,\\n      \"type\": \"Grammar\",\\n      \"subType\": \"Verb Form\",\\n      \"incorrectText\": \"creates\",\\n      \"correctedText\": \"contributes to\",\\n      \"explanation\": \"â\\x80\\x98Contributes toâ\\x80\\x99 is a more nuanced and accurate description of the process.\"\\n    },\\n    {\\n      \"id\": \"err-6\",\\n      \"start\": 63,\\n      \"end\": 68,\\n      \"type\": \"Vocabulary\",\\n      \"subType\": \"Word Choice\",\\n      \"incorrectText\": \"echo chambers\",\\n      \"correctedText\": \"filter bubbles\",\\n      \"explanation\": \"\\'Echo chambers\\' is a common term, but \\'filter bubbles\\' is more descriptive of the algorithmic process.\"\\n    },\\n    {\\n      \"id\": \"err-7\",\\n      \"start\": 74,\\n      \"end\": 79,\\n      \"type\": \"Grammar\",\\n      \"subType\": \"Verb Form\",\\n      \"incorrectText\": \"contributes to\",\\n      \"correctedText\": \"leads to\",\\n      \"explanation\": \"\\'Leads to\\' is a stronger and more direct way to express the cause-and-effect relationship.\"\\n    },\\n    {\\n      \"id\": \"err-8\",\\n      \"start\": 84,\\n      \"end\": 89,\\n      \"type\": \"Vocabulary\",\\n      \"subType\": \"Word Choice\",\\n      \"incorrectText\": \"misinformation\",\\n      \"correctedText\": \"false narratives\",\\n      \"explanation\": \"\\'Misinformation\\' is a broad term; \\'false narratives\\' is more specific and descriptive.\"\\n    },\\n    {\\n      \"id\": \"err-9\",\\n      \"start\": 96,\\n      \"end\": 99,\\n      \"type\": \"Grammar\",\\n      \"subType\": \"Verb Form\",\\n      \"incorrectText\": \"share\",\\n      \"correctedText\": \"disseminate\",\\n      \"explanation\": \"\\'Disseminate\\' is a more formal and appropriate term for spreading information.\"\\n    },\\n    {\\n      \"id\": \"err-10\",\\n      \"start\": 104,\\n      \"end\": 109,\\n      \"type\": \"Vocabulary\",\\n      \"subType\": \"Word Choice\",\\n      \"incorrectText\": \"harassment\",\\n      \"correctedText\": \"abuse\",\\n      \"explanation\": \"\\'Harassment\\' is too broad; \\'abuse\\' is more specific to the context of online interactions.\"\\n    },\\n    {\\n      \"id\": \"err-11\",\\n      \"start\": 116,\\n      \"end\": 119,\\n      \"type\": \"Vocabulary\",\\n      \"subType\": \"Word Choice\",\\n      \"incorrectText\": \"discourse\",\\n      \"correctedText\": \"debate\",\\n      \"explanation\": \"\\'Discourse\\' is too academic; \\'debate\\' is more accessible and appropriate for this context.\"\\n    },\\n    {\\n      \"id\": \"err-12\",\\n      \"start\": 131,\\n      \"end\": 133,\\n      \"type\": \"Vocabulary\",\\n      \"subType\": \"Word Choice\",\\n      \"incorrectText\": \"over\",\\n      \"correctedText\": \"excessive\",\\n      \"explanation\": \"\\'Over\\' is too vague; \\'excessive\\' is more descriptive.\"\\n    },\\n    {\\n      \"id\": \"err-13\",\\n      \"start\": 146,\\n      \"end\": 149,\\n      \"type\": \"Vocabulary\",\\n      \"subType\": \"Word Choice\",\\n      \"incorrectText\": \"discourse\",\\n      \"correctedText\": \"discussion\",\\n      \"explanation\": \"\\'Discourse\\' is too academic; \\'discussion\\' is more accessible and appropriate for this context.\"\\n    },\\n    {\\n      \"id\": \"err-14\",\\n      \"start\": 163,\\n      \"end\": 167,\\n      \"type\": \"Vocabulary\",\\n      \"subType\": \"Word Choice\",\\n      \"incorrectText\": \"over\",\\n      \"correctedText\": \"excessive\",\\n      \"explanation\": \"\\'Over\\' is too vague; \\'excessive\\' is more descriptive.\"\\n    },\\n    {\\n      \"id\": \"err-15\",\\n      \"start\": 173,\\n      \"end\": 177,\\n      \"type\": \"Vocabulary\",\\n      \"subType\": \"Word Choice\",\\n      \"incorrectText\": \"discourse\",\\n      \"correctedText\": \"discussion\",\\n      \"explanation\": \"\\'Discourse\\' is too academic; \\'discussion\\' is more accessible and appropriate for this context.\"\\n    },\\n    {\\n      \"id\": \"err-16\",\\n      \"start\": 187,\\n      \"end\": 189,\\n      \"type\": \"Vocabulary\",\\n      \"subType\": \"Word Choice\",\\n      \"incorrectText\": \"over\",\\n      \"correctedText\": \"excessive\",\\n      \"explanation\": \"\\'Over\\' is too vague; \\'excessive\\' is more descriptive.\"\\n    },\\n    {\\n      \"id\": \"err-17\",\\n      \"start\": 197,\\n      \"end\": 201,\\n      \"type\": \"Vocabulary\",\\n      \"subType\": \"Word Choice\",\\n      \"incorrectText\": \"discourse\",\\n      \"correctedText\": \"discussion\",\\n      \"explanation\": \"\\'Discourse\\' is too academic; \\'discussion\\' is more accessible and appropriate for this context.\"\\n    },\\n    {\\n      \"id\": \"err-18\",\\n      \"start\": 208,\\n      \"end\": 212,\\n      \"type\": \"Vocabulary\",\\n      \"subType\": \"Word Choice\",\\n      \"incorrectText\": \"over\",\\n      \"correctedText\": \"excessive\",\\n      \"explanation\": \"\\'Over\\' is too vague; \\'excessive\\' is more descriptive.\"\\n    },\\n    {\\n      \"id\": \"err-19\",\\n      \"start\": 218,\\n      \"end\": 221,\\n      \"type\": \"Vocabulary\",\\n      \"subType\": \"Word Choice\",\\n      \"incorrectText\": \"discourse\",\\n      \"correctedText\": \"discussion\",\\n      \"explanation\": \"\\'Discourse\\' is too academic; \\'discussion\\' is more accessible and appropriate for this context.\"\\n    },\\n    {\\n      \"id\": \"err-20\",\\n      \"start\": 227,\\n      \"end\": 231,\\n      \"type\": \"Vocabulary\",\\n      \"subType\": \"Word Choice\",\\n      \"incorrectText\": \"over\",\\n      \"correctedText\": \"excessive\",\\n      \"explanation\": \"\\'Over\\' is too vague; \\'excessive\\' is more descriptive.\"\\n    },\\n    {\\n      \"id\": \"err-21\",\\n      \"start\": 233,\\n      \"end\": 237,\\n      \"type\": \"Vocabulary\",\\n      \"subType\": \"Word Choice\",\\n      \"incorrectText\": \"discourse\",\\n      \"correctedText\": \"discussion\",\\n      \"explanation\": \"\\'Discourse\\' is too academic; \\'discussion\\' is more accessible and appropriate for this context.\"\\n    },\\n    {\\n      \"id\": \"err-22\",\\n      \"start\": 243,\\n      \"end\": 247,\\n      \"type\": \"Vocabulary\",\\n      \"subType\": \"Word Choice\",\\n      \"incorrectText\": \"over\",\\n      \"correctedText\": \"excessive\",\\n      \"explanation\": \"\\'Over\\' is too vague; \\'excessive\\' is more descriptive.\"\\n    },\\n    {\\n      \"id\": \"err-23\",\\n      \"start\": 253,\\n      \"end\": 257,\\n      \"type\": \"Vocabulary\",\\n      \"subType\": \"Word Choice\",\\n      \"incorrectText\": \"discourse\",\\n      \"correctedText\": \"discussion\",\\n      \"explanation\": \"\\'Discourse\\' is too academic; \\'discussion\\' is more accessible and appropriate for this context.\"\\n    },\\n    {\\n      \"id\": \"err-24\",\\n      \"start\": 263,\\n      \"end\": 267,\\n      \"type\": \"Vocabulary\",\\n      \"subType\": \"Word Choice\",\\n      \"incorrectText\": \"discourse\",\\n      \"correctedText\": \"discussion\",\\n      \"explanation\": \"\\'Discourse\\' is too academic; \\'discussion\\' is more accessible and appropriate for this context.\"\\n    },\\n    {\\n      \"id\": \"err-25\",\\n      \"start\": 273,\\n      \"end\": 277,\\n      \"type\": \"Vocabulary\",\\n      \"subType\": \"Word Choice\",\\n      \"incorrectText\": \"over\",\\n      \"correctedText\": \"excessive\",\\n      \"explanation\": \"\\'Over\\' is too vague; \\'excessive\\' is more descriptive.\"\\n    },\\n    {\\n      \"id\": \"err-26\",\\n      \"start\": 283,\\n      \"end\": 287,\\n      \"type\": \"Vocabulary\",\\n      \"subType\": \"Word Choice\",\\n      \"incorrectText\": \"discourse\",\\n      \"correctedText\": \"discussion\",\\n      \"explanation\": \"\\'Discourse\\' is too academic; \\'discussion\\' is more accessible and appropriate for this context.\"\\n    },\\n    {\\n      \"id\": \"err-27\",\\n      \"start\": 293,\\n      \"end\": 297,\\n      \"type\": \"Vocabulary\",\\n      \"subType\": \"Word Choice\",\\n      \"incorrectText\": \"over\",\\n      \"correctedText\": \"excessive\",\\n      \"explanation\": \"\\'Over\\' is too vague; \\'excessive\\' is more descriptive.\"\\n    },\\n    {\\n      \"id\": \"err-28\",\\n      \"start\": 303,\\n      \"end\": 307,\\n      \"type\": \"Vocabulary\",\\n      \"subType\": \"Word Choice\",\\n      \"incorrectText\": \"discourse\",\\n      \"correctedText\": \"discussion\",\\n      \"explanation\": \"\\'Discourse\\' is too academic; \\'discussion\\' is more accessible and appropriate for this context.\"\\n    },\\n    {\\n      \"id\": \"err-29\",\\n      \"start\": 313,\\n      \"end\": 317,\\n      \"type\": \"Vocabulary\",\\n      \"subType\": \"Word Choice\",\\n      \"incorrectText\": \"over\",\\n      \"correctedText\": \"excessive\",\\n      \"explanation\": \"\\'Over\\' is too vague; \\'excessive\\' is more descriptive.\"\\n    },\\n    {\\n      \"id\": \"err-30\",\\n      \"start\": 317,\\n      \"end\": 321,\\n      \"type\": \"Vocabulary\",\\n      \"subType\": \"Word Choice\",\\n      \"incorrectText\": \"discourse\",\\n      \"correctedText\": \"discussion\",\\n      \"explanation\": \"\\'Discourse\\' is too academic; \\'discussion\\' is more accessible and appropriate for this context.\"\\n    }\\n  ]\\n}'"
      ]
     },
     "execution_count": 27,
     "metadata": {},
     "output_type": "execute_result"
    }
   ],
   "source": [
    "result"
   ]
  },
  {
   "cell_type": "code",
   "execution_count": null,
   "id": "1e247d03-faa5-4289-a637-5320d043b3d4",
   "metadata": {},
   "outputs": [],
   "source": []
  }
 ],
 "metadata": {
  "kernelspec": {
   "display_name": "Python 3 (ipykernel)",
   "language": "python",
   "name": "python3"
  },
  "language_info": {
   "codemirror_mode": {
    "name": "ipython",
    "version": 3
   },
   "file_extension": ".py",
   "mimetype": "text/x-python",
   "name": "python",
   "nbconvert_exporter": "python",
   "pygments_lexer": "ipython3",
   "version": "3.8.18"
  }
 },
 "nbformat": 4,
 "nbformat_minor": 5
}
